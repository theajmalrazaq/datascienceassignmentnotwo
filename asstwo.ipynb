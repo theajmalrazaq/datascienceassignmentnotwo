{
 "cells": [
  {
   "cell_type": "markdown",
   "id": "f0a91297",
   "metadata": {},
   "source": [
    "importing all libs"
   ]
  },
  {
   "cell_type": "code",
   "execution_count": 3,
   "id": "f5e90039",
   "metadata": {},
   "outputs": [],
   "source": [
    "import pandas as pd\n",
    "import numpy as np"
   ]
  },
  {
   "cell_type": "code",
   "execution_count": 31,
   "id": "3265932d",
   "metadata": {},
   "outputs": [],
   "source": [
    "df = pd.read_csv(\"./dataset.csv\")"
   ]
  },
  {
   "cell_type": "markdown",
   "id": "86cbfd79",
   "metadata": {},
   "source": [
    "Identifying unique channel names before standardization"
   ]
  },
  {
   "cell_type": "code",
   "execution_count": 38,
   "id": "0ce1e7d3",
   "metadata": {},
   "outputs": [
    {
     "name": "stdout",
     "output_type": "stream",
     "text": [
      "['ARY News' 'Hum News' 'Samaa TV' 'Dawn News' 'Geo News' 'AbbTakk News'\n",
      " 'Express News']\n"
     ]
    }
   ],
   "source": [
    "print(df[\"Channel\"].unique())"
   ]
  },
  {
   "cell_type": "markdown",
   "id": "5d6a351e",
   "metadata": {},
   "source": [
    "Correct Channel names"
   ]
  },
  {
   "cell_type": "code",
   "execution_count": 47,
   "id": "6e1e2a17",
   "metadata": {},
   "outputs": [
    {
     "name": "stdout",
     "output_type": "stream",
     "text": [
      "['ARY News' 'Hum News' 'Samaa TV' 'Dawn News' 'Geo News' 'AbbTakk News'\n",
      " 'Express News']\n"
     ]
    }
   ],
   "source": [
    "df['Channel'] = df['Channel'].replace({\n",
    "    \"geo\": \"Geo News\",\n",
    "    \"Geo\": \"Geo News\",\n",
    "    \"GEO NEWS\": \"Geo News\",\n",
    "    \"ARY\": \"ARY News\",\n",
    "    \"ary\": \"ARY News\",\n",
    "    \"ARYNEWS\": \"ARY News\",\n",
    "    \"Samaa\": \"Samaa TV\",\n",
    "    \"SAMAA TV\": \"Samaa TV\",\n",
    "    \"Express\": \"Express News\",\n",
    "    \"Express-News\": \"Express News\",\n",
    "    \"hum news\": \"Hum News\",\n",
    "    \"HUM News\": \"Hum News\",\n",
    "    \"DawnNews\": \"Dawn News\",\n",
    "    \"DAWN\": \"Dawn News\"\n",
    "})\n",
    "\n",
    "print(df['Channel'].unique())\n",
    "\n"
   ]
  },
  {
   "cell_type": "markdown",
   "id": "9e1befbc",
   "metadata": {},
   "source": [
    "Find Unique Names"
   ]
  },
  {
   "cell_type": "code",
   "execution_count": null,
   "id": "3e9adb63",
   "metadata": {},
   "outputs": [
    {
     "name": "stdout",
     "output_type": "stream",
     "text": [
      "['Najam Sethi' 'Dr. Shahid Masood' 'Kamran Shahid' 'Matiullah Jan'\n",
      " 'RAUF KLASSRA' 'Ansar Abbasi' 'Umar Cheema' 'Shahzeb Khanzada'\n",
      " 'shahzeb khanzada' 'Kamran Khan' 'K. Khan' 'Asma Shirazi'\n",
      " 'Mohsin Raza Khan' 'Saleem Safi' 'Talat Hussain' 'Rauf Klasra'\n",
      " 'Owais Tohid' 'Nusrat Javed' 'Mohsin Raza']\n"
     ]
    }
   ],
   "source": [
    "print(df[\"Journalist\"].unique())"
   ]
  },
  {
   "cell_type": "markdown",
   "id": "c82ab79c",
   "metadata": {},
   "source": [
    "Makes Journalist Name Consistant and fix spelling mistakes"
   ]
  },
  {
   "cell_type": "code",
   "execution_count": 44,
   "id": "4505071a",
   "metadata": {},
   "outputs": [
    {
     "name": "stdout",
     "output_type": "stream",
     "text": [
      "['Najam Sethi' 'Dr. Shahid Masood' 'Kamran Shahid' 'Matiullah Jan'\n",
      " 'Rauf Klasra' 'Ansar Abbasi' 'Umar Cheema' 'Shahzeb Khanzada'\n",
      " 'Kamran Khan' 'K. Khan' 'Asma Shirazi' 'Mohsin Raza' 'Saleem Safi'\n",
      " 'Talat Hussain' 'Owais Tohid' 'Nusrat Javed']\n"
     ]
    }
   ],
   "source": [
    "df[\"Journalist\"] = df[\"Journalist\"].str.title()\n",
    "df[\"Journalist\"] = df[\"Journalist\"].replace({\n",
    "    \"Rauf Klassra\": \"Rauf Klasra\",\n",
    "    \"Mohsin Raza Khan\": \"Mohsin Raza\"\n",
    "})\n",
    "print(df[\"Journalist\"].unique())"
   ]
  }
 ],
 "metadata": {
  "kernelspec": {
   "display_name": "Python 3",
   "language": "python",
   "name": "python3"
  },
  "language_info": {
   "codemirror_mode": {
    "name": "ipython",
    "version": 3
   },
   "file_extension": ".py",
   "mimetype": "text/x-python",
   "name": "python",
   "nbconvert_exporter": "python",
   "pygments_lexer": "ipython3",
   "version": "3.14.0"
  }
 },
 "nbformat": 4,
 "nbformat_minor": 5
}
